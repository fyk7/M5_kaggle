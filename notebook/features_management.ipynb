{
 "cells": [
  {
   "cell_type": "code",
   "execution_count": 2,
   "metadata": {},
   "outputs": [
    {
     "name": "stdout",
     "output_type": "stream",
     "text": [
      "72\n"
     ]
    }
   ],
   "source": [
    "features = ['item_id', 'dept_id', 'cat_id', 'release', 'sell_price', 'price_max', 'price_min', 'price_std', 'price_mean', \n",
    "            'price_norm', 'price_nunique', 'item_nunique', 'price_momentum', 'price_momentum_m', 'price_momentum_y', \n",
    "            'event_name_1', 'event_type_1', 'event_name_2', 'event_type_2', 'snap_CA', 'snap_TX', 'snap_WI', \n",
    "            'tm_d', 'tm_w', 'tm_m', 'tm_y', 'tm_wm', 'tm_dw', 'tm_w_end', \n",
    "            #enc_ids\n",
    "            'enc_cat_id_mean', 'enc_cat_id_std', 'enc_dept_id_mean', 'enc_dept_id_std', 'enc_item_id_mean', 'enc_item_id_std', \n",
    "           #sales_lag \n",
    "            'sales_lag_28', 'sales_lag_29', 'sales_lag_30', 'sales_lag_31', 'sales_lag_32', 'sales_lag_33', 'sales_lag_34', 'sales_lag_35', \n",
    "            'sales_lag_36', 'sales_lag_37', 'sales_lag_38', 'sales_lag_39', 'sales_lag_40', 'sales_lag_41', 'sales_lag_42', \n",
    "           #rolling_mean \n",
    "            'rolling_mean_7', 'rolling_std_7', 'rolling_mean_14', 'rolling_std_14', 'rolling_mean_30', 'rolling_std_30', \n",
    "            'rolling_mean_60', 'rolling_std_60', 'rolling_mean_180', 'rolling_std_180', \n",
    "           #rolling_mean_tmp \n",
    "            'rolling_mean_tmp_1_7', 'rolling_mean_tmp_1_14', 'rolling_mean_tmp_1_30', 'rolling_mean_tmp_1_60', \n",
    "            'rolling_mean_tmp_7_7', 'rolling_mean_tmp_7_14', 'rolling_mean_tmp_7_30', \n",
    "            'rolling_mean_tmp_7_60', 'rolling_mean_tmp_14_7', 'rolling_mean_tmp_14_14', 'rolling_mean_tmp_14_30', \n",
    "            'rolling_mean_tmp_14_60']\n",
    "print(len(features))"
   ]
  },
  {
   "cell_type": "code",
   "execution_count": 3,
   "metadata": {},
   "outputs": [],
   "source": [
    "TARGET = 'sales'\n",
    "remove_features = ['id','state_id','store_id', 'date','wm_yr_wk','d',TARGET]"
   ]
  },
  {
   "cell_type": "code",
   "execution_count": 4,
   "metadata": {},
   "outputs": [],
   "source": [
    "mean_features   = ['enc_cat_id_mean','enc_cat_id_std',  'enc_dept_id_mean', 'enc_dept_id_std', \n",
    "                                  'enc_item_id_mean','enc_item_id_std'] "
   ]
  },
  {
   "cell_type": "code",
   "execution_count": 5,
   "metadata": {},
   "outputs": [
    {
     "ename": "SyntaxError",
     "evalue": "invalid syntax (<ipython-input-5-cd2cc8c8a598>, line 4)",
     "output_type": "error",
     "traceback": [
      "\u001b[0;36m  File \u001b[0;32m\"<ipython-input-5-cd2cc8c8a598>\"\u001b[0;36m, line \u001b[0;32m4\u001b[0m\n\u001b[0;31m    binary_col = ['snap_CA', , 'snap_TX', 'snap_WI']\u001b[0m\n\u001b[0m                             ^\u001b[0m\n\u001b[0;31mSyntaxError\u001b[0m\u001b[0;31m:\u001b[0m invalid syntax\n"
     ]
    }
   ],
   "source": [
    "cat_cols = ['item_id', 'dept_id', 'cat_id', 'release', 'price_nunique', 'item_nunique', \n",
    "            'event_name_1', 'event_type_1', 'event_name_2', 'event_type_2', 'snap_CA', 'snap_TX', 'snap_WI', \n",
    "            'tm_d', 'tm_w', 'tm_m', 'tm_y', 'tm_wm', 'tm_dw', 'tm_w_end']\n",
    "binary_col = ['snap_CA', , 'snap_TX', 'snap_WI']"
   ]
  },
  {
   "cell_type": "code",
   "execution_count": 6,
   "metadata": {},
   "outputs": [],
   "source": [
    "cat_id_cols = ['item_id', 'dept_id', 'cat_id']"
   ]
  },
  {
   "cell_type": "code",
   "execution_count": 7,
   "metadata": {},
   "outputs": [],
   "source": [
    "num_cols = ['release', 'sell_price', 'price_max', 'price_min', 'price_std', 'price_mean', \n",
    "            'price_norm', 'price_nunique', 'item_nunique', 'price_momentum', 'price_momentum_m', 'price_momentum_y', \n",
    "            #enc_ids\n",
    "            'enc_cat_id_mean', 'enc_cat_id_std', 'enc_dept_id_mean', 'enc_dept_id_std', 'enc_item_id_mean', 'enc_item_id_std', \n",
    "           #sales_lag \n",
    "            'sales_lag_28', 'sales_lag_29', 'sales_lag_30', 'sales_lag_31', 'sales_lag_32', 'sales_lag_33', 'sales_lag_34', 'sales_lag_35', \n",
    "            'sales_lag_36', 'sales_lag_37', 'sales_lag_38', 'sales_lag_39', 'sales_lag_40', 'sales_lag_41', 'sales_lag_42', \n",
    "           #rolling_mean \n",
    "            'rolling_mean_7', 'rolling_std_7', 'rolling_mean_14', 'rolling_std_14', 'rolling_mean_30', 'rolling_std_30', \n",
    "            'rolling_mean_60', 'rolling_std_60', 'rolling_mean_180', 'rolling_std_180', \n",
    "           #rolling_mean_tmp \n",
    "            'rolling_mean_tmp_1_7', 'rolling_mean_tmp_1_14', 'rolling_mean_tmp_1_30', 'rolling_mean_tmp_1_60', \n",
    "            'rolling_mean_tmp_7_7', 'rolling_mean_tmp_7_14', 'rolling_mean_tmp_7_30', \n",
    "            'rolling_mean_tmp_7_60', 'rolling_mean_tmp_14_7', 'rolling_mean_tmp_14_14', 'rolling_mean_tmp_14_30', \n",
    "            'rolling_mean_tmp_14_60']"
   ]
  },
  {
   "cell_type": "code",
   "execution_count": 8,
   "metadata": {},
   "outputs": [],
   "source": [
    "use_cols = []"
   ]
  },
  {
   "cell_type": "code",
   "execution_count": 9,
   "metadata": {},
   "outputs": [],
   "source": [
    "#0.9+ GB\n",
    "grid_part_1 = ['id', 'item_id', 'dept_id', 'cat_id', 'store_id', 'state_id', 'd', 'sales', 'release']\n",
    "#1.8+ GB\n",
    "grid_part_2 = ['id', 'd', 'sell_price', 'price_max', 'price_min', 'price_std',\n",
    "                           'price_mean', 'price_norm', 'price_nunique', 'item_nunique',\n",
    "                           'price_momentum', 'price_momentum_m', 'price_momentum_y']\n",
    "#1.4+ GB\n",
    "grid_part_3 = ['id', 'd', 'event_name_1', 'event_type_1', 'event_name_2',\n",
    "                           'event_type_2', 'snap_CA', 'snap_TX', 'snap_WI', 'tm_d', 'tm_w', 'tm_m',\n",
    "                           'tm_y', 'tm_wm', 'tm_dw', 'tm_w_end']"
   ]
  },
  {
   "cell_type": "code",
   "execution_count": 10,
   "metadata": {},
   "outputs": [],
   "source": [
    "lag_cols = [#sales_lag \n",
    "            'sales_lag_28', 'sales_lag_29', 'sales_lag_30', 'sales_lag_31', 'sales_lag_32', 'sales_lag_33', 'sales_lag_34', 'sales_lag_35', \n",
    "            'sales_lag_36', 'sales_lag_37', 'sales_lag_38', 'sales_lag_39', 'sales_lag_40', 'sales_lag_41', 'sales_lag_42', \n",
    "           #rolling_mean \n",
    "            'rolling_mean_7', 'rolling_std_7', 'rolling_mean_14', 'rolling_std_14', 'rolling_mean_30', 'rolling_std_30', \n",
    "            'rolling_mean_60', 'rolling_std_60', 'rolling_mean_180', 'rolling_std_180', \n",
    "           #rolling_mean_tmp \n",
    "            'rolling_mean_tmp_1_7', 'rolling_mean_tmp_1_14', 'rolling_mean_tmp_1_30', 'rolling_mean_tmp_1_60', \n",
    "            'rolling_mean_tmp_7_7', 'rolling_mean_tmp_7_14', 'rolling_mean_tmp_7_30', \n",
    "            'rolling_mean_tmp_7_60', 'rolling_mean_tmp_14_7', 'rolling_mean_tmp_14_14', 'rolling_mean_tmp_14_30', \n",
    "            'rolling_mean_tmp_14_60']"
   ]
  },
  {
   "cell_type": "code",
   "execution_count": 11,
   "metadata": {},
   "outputs": [],
   "source": [
    "mean_cols = [ 'enc_state_id_mean', 'enc_state_id_std', 'enc_store_id_mean',\n",
    "           'enc_store_id_std', 'enc_cat_id_mean', 'enc_cat_id_std',\n",
    "           'enc_dept_id_mean', 'enc_dept_id_std', 'enc_state_id_cat_id_mean',\n",
    "           'enc_state_id_cat_id_std', 'enc_state_id_dept_id_mean',\n",
    "           'enc_state_id_dept_id_std', 'enc_store_id_cat_id_mean',\n",
    "           'enc_store_id_cat_id_std', 'enc_store_id_dept_id_mean',\n",
    "           'enc_store_id_dept_id_std', 'enc_item_id_mean', 'enc_item_id_std',\n",
    "           'enc_item_id_state_id_mean', 'enc_item_id_state_id_std',\n",
    "           'enc_item_id_store_id_mean', 'enc_item_id_store_id_std']"
   ]
  },
  {
   "cell_type": "code",
   "execution_count": 12,
   "metadata": {},
   "outputs": [
    {
     "data": {
      "text/plain": [
       "'\\nsales_lag_7, sales_lag_14, sales_lag_21\\nlog_sales.pkl\\nclip_sales.pkl\\nclimate_6am.pkl\\nis_discount.pkl\\n'"
      ]
     },
     "execution_count": 12,
     "metadata": {},
     "output_type": "execute_result"
    }
   ],
   "source": [
    "#加えたいfeatuers\n",
    "'''\n",
    "sales_lag_7, sales_lag_14, sales_lag_21\n",
    "log_sales.pkl\n",
    "clip_sales.pkl\n",
    "climate_6am.pkl\n",
    "is_discount.pkl\n",
    "'''"
   ]
  },
  {
   "cell_type": "code",
   "execution_count": 13,
   "metadata": {},
   "outputs": [],
   "source": [
    "# grid = pd.read_pickle('../data/input/grid_part_2.pkl')\n",
    "# grid.info()"
   ]
  },
  {
   "cell_type": "code",
   "execution_count": 14,
   "metadata": {},
   "outputs": [],
   "source": [
    "# grid.head()"
   ]
  },
  {
   "cell_type": "code",
   "execution_count": 15,
   "metadata": {},
   "outputs": [],
   "source": [
    "use_cols = ['item_id', 'dept_id', 'cat_id', 'release', 'sell_price', 'price_max', 'price_min', 'price_std', 'price_mean', \n",
    "            'price_norm', 'price_nunique', 'item_nunique', 'price_momentum', 'price_momentum_m', 'price_momentum_y', \n",
    "            'event_name_1', 'event_type_1', 'event_name_2', 'event_type_2', 'snap_CA', 'snap_TX', 'snap_WI', \n",
    "            'tm_d', 'tm_w', 'tm_m', 'tm_y', 'tm_wm', 'tm_dw', 'tm_w_end', \n",
    "            #enc_ids\n",
    "            'enc_cat_id_mean', 'enc_cat_id_std', 'enc_dept_id_mean', 'enc_dept_id_std', 'enc_item_id_mean', 'enc_item_id_std', \n",
    "           #sales_lag \n",
    "            'sales_lag_28',  'sales_lag_35', 'sales_lag_42', \n",
    "           #rolling_mean \n",
    "            'rolling_mean_7', 'rolling_std_7', 'rolling_mean_14', 'rolling_std_14', 'rolling_mean_30', 'rolling_std_30', \n",
    "            'rolling_mean_60', 'rolling_std_60', 'rolling_mean_180', 'rolling_std_180', \n",
    "           #rolling_mean_tmp \n",
    "            'rolling_mean_tmp_1_60', 'rolling_mean_tmp_7_30', 'rolling_mean_tmp_7_60', \n",
    "            'rolling_mean_tmp_14_7', 'rolling_mean_tmp_14_14', 'rolling_mean_tmp_14_30', \n",
    "            'rolling_mean_tmp_14_60']\n",
    "unuse_cols = [col for col in features if col not in use_cols]"
   ]
  },
  {
   "cell_type": "code",
   "execution_count": 16,
   "metadata": {},
   "outputs": [
    {
     "name": "stdout",
     "output_type": "stream",
     "text": [
      "['sales_lag_29', 'sales_lag_30', 'sales_lag_31', 'sales_lag_32', 'sales_lag_33', 'sales_lag_34', 'sales_lag_36', 'sales_lag_37', 'sales_lag_38', 'sales_lag_39', 'sales_lag_40', 'sales_lag_41', 'rolling_mean_tmp_1_7', 'rolling_mean_tmp_1_14', 'rolling_mean_tmp_1_30', 'rolling_mean_tmp_7_7', 'rolling_mean_tmp_7_14']\n"
     ]
    }
   ],
   "source": [
    "print(unuse_cols)"
   ]
  },
  {
   "cell_type": "code",
   "execution_count": null,
   "metadata": {},
   "outputs": [],
   "source": []
  }
 ],
 "metadata": {
  "kernelspec": {
   "display_name": "Python 3",
   "language": "python",
   "name": "python3"
  },
  "language_info": {
   "codemirror_mode": {
    "name": "ipython",
    "version": 3
   },
   "file_extension": ".py",
   "mimetype": "text/x-python",
   "name": "python",
   "nbconvert_exporter": "python",
   "pygments_lexer": "ipython3",
   "version": "3.7.6"
  }
 },
 "nbformat": 4,
 "nbformat_minor": 4
}
