{
 "cells": [
  {
   "cell_type": "code",
   "execution_count": 1,
   "metadata": {},
   "outputs": [],
   "source": [
    "import numpy as np\n",
    "import pandas as pd\n",
    "from scipy.sparse import csr_matrix\n",
    "import gc"
   ]
  },
  {
   "cell_type": "code",
   "execution_count": 2,
   "metadata": {},
   "outputs": [
    {
     "data": {
      "text/plain": [
       "0"
      ]
     },
     "execution_count": 2,
     "metadata": {},
     "output_type": "execute_result"
    }
   ],
   "source": [
    "sw_df = pd.read_pickle('../data/input/sw_df_1914.pkl')\n",
    "S = sw_df.s.values\n",
    "W = sw_df.w.values\n",
    "SW = sw_df.sw.values\n",
    "del sw_df\n",
    "gc.collect()\n",
    "\n",
    "\n",
    "# Load roll up matrix to calcualte aggreagates:\n",
    "roll_mat_df = pd.read_pickle('../data/input/roll_mat_df_1914.pkl')\n",
    "roll_index = roll_mat_df.index\n",
    "roll_mat_csr = csr_matrix(roll_mat_df.values)\n",
    "del roll_mat_df\n",
    "gc.collect()"
   ]
  },
  {
   "cell_type": "code",
   "execution_count": 3,
   "metadata": {},
   "outputs": [],
   "source": [
    "def rollup(v):\n",
    "    return roll_mat_csr*v "
   ]
  },
  {
   "cell_type": "code",
   "execution_count": 4,
   "metadata": {},
   "outputs": [],
   "source": [
    "def wrmsse(preds, y_true, score_only=False, s = S, w = W, sw=SW):\n",
    "    '''\n",
    "    preds - Predictions: pd.DataFrame of size (30490 rows, N day columns)\n",
    "    y_true - True values: pd.DataFrame of size (30490 rows, N day columns)\n",
    "    sequence_length - np.array of size (42840,)\n",
    "    sales_weight - sales weights based on last 28 days: np.array (42840,)\n",
    "    '''\n",
    "    \n",
    "    if score_only:\n",
    "        return np.sum(\n",
    "                np.sqrt(\n",
    "                    np.mean(\n",
    "                        np.square(rollup(preds.values-y_true.values))# (30490, 28)をroll_up\n",
    "                            ,axis=1)) * sw)/12 #<-used to be mistake here\n",
    "    else: \n",
    "        score_matrix = (np.square(rollup(preds.values-y_true.values)) * np.square(w)[:, None])/ s[:, None]\n",
    "        score = np.sum(np.sqrt(np.mean(score_matrix,axis=1)))/12 #<-used to be mistake here\n",
    "        return score, score_matrix"
   ]
  },
  {
   "cell_type": "code",
   "execution_count": 5,
   "metadata": {},
   "outputs": [],
   "source": [
    "#####dark magic + 1の値を記載\n",
    "END_TRAIN = 1914\n",
    "sales = pd.read_csv('../data/input/m5-forecasting-accuracy/sales_train_evaluation.csv')\n",
    "# sub = pd.read_csv('../data/output/submission_baseline.csv')\n",
    "sub = pd.read_csv('../data/input/submission_eva_to_val_all_fe.csv')\n",
    "sub = sub[sub.id.str.endswith('evaluation')]\n",
    "# sub = sub[sub.id.str.endswith('validation')]\n",
    "sub.drop(['id'], axis=1, inplace=True)\n",
    "\n",
    "DAYS_PRED = sub.shape[1]    # 28\n",
    "\n",
    "# dayCols = [\"d_{}\".format(i) for i in range(1914-DAYS_PRED, 1914)]\n",
    "dayCols = [\"d_{}\".format(i) for i in range(END_TRAIN-DAYS_PRED, END_TRAIN)]\n",
    "y_true = sales[dayCols]"
   ]
  },
  {
   "cell_type": "code",
   "execution_count": 6,
   "metadata": {},
   "outputs": [
    {
     "data": {
      "text/plain": [
       "(30490, 29)"
      ]
     },
     "execution_count": 6,
     "metadata": {},
     "output_type": "execute_result"
    }
   ],
   "source": [
    "y_true.shape"
   ]
  },
  {
   "cell_type": "code",
   "execution_count": 7,
   "metadata": {},
   "outputs": [],
   "source": [
    "score = wrmsse(sub, y_true, score_only=True)"
   ]
  },
  {
   "cell_type": "code",
   "execution_count": 8,
   "metadata": {},
   "outputs": [
    {
     "data": {
      "text/plain": [
       "32328.320662991842"
      ]
     },
     "execution_count": 8,
     "metadata": {},
     "output_type": "execute_result"
    }
   ],
   "source": [
    "score"
   ]
  },
  {
   "cell_type": "code",
   "execution_count": 11,
   "metadata": {},
   "outputs": [
    {
     "data": {
      "text/html": [
       "<div>\n",
       "<style scoped>\n",
       "    .dataframe tbody tr th:only-of-type {\n",
       "        vertical-align: middle;\n",
       "    }\n",
       "\n",
       "    .dataframe tbody tr th {\n",
       "        vertical-align: top;\n",
       "    }\n",
       "\n",
       "    .dataframe thead th {\n",
       "        text-align: right;\n",
       "    }\n",
       "</style>\n",
       "<table border=\"1\" class=\"dataframe\">\n",
       "  <thead>\n",
       "    <tr style=\"text-align: right;\">\n",
       "      <th></th>\n",
       "      <th>Unnamed: 0</th>\n",
       "      <th>F1</th>\n",
       "      <th>F2</th>\n",
       "      <th>F3</th>\n",
       "      <th>F4</th>\n",
       "      <th>F5</th>\n",
       "      <th>F6</th>\n",
       "      <th>F7</th>\n",
       "      <th>F8</th>\n",
       "      <th>F9</th>\n",
       "      <th>...</th>\n",
       "      <th>F19</th>\n",
       "      <th>F20</th>\n",
       "      <th>F21</th>\n",
       "      <th>F22</th>\n",
       "      <th>F23</th>\n",
       "      <th>F24</th>\n",
       "      <th>F25</th>\n",
       "      <th>F26</th>\n",
       "      <th>F27</th>\n",
       "      <th>F28</th>\n",
       "    </tr>\n",
       "  </thead>\n",
       "  <tbody>\n",
       "    <tr>\n",
       "      <th>0</th>\n",
       "      <td>30490</td>\n",
       "      <td>0.783889</td>\n",
       "      <td>0.725020</td>\n",
       "      <td>0.719282</td>\n",
       "      <td>0.741555</td>\n",
       "      <td>0.910231</td>\n",
       "      <td>1.068287</td>\n",
       "      <td>1.198409</td>\n",
       "      <td>0.801078</td>\n",
       "      <td>0.868005</td>\n",
       "      <td>...</td>\n",
       "      <td>0.783010</td>\n",
       "      <td>0.981762</td>\n",
       "      <td>1.030879</td>\n",
       "      <td>0.840752</td>\n",
       "      <td>0.747888</td>\n",
       "      <td>0.770625</td>\n",
       "      <td>0.782680</td>\n",
       "      <td>0.944883</td>\n",
       "      <td>0.997164</td>\n",
       "      <td>0.978925</td>\n",
       "    </tr>\n",
       "    <tr>\n",
       "      <th>1</th>\n",
       "      <td>30491</td>\n",
       "      <td>0.143639</td>\n",
       "      <td>0.146079</td>\n",
       "      <td>0.139069</td>\n",
       "      <td>0.154118</td>\n",
       "      <td>0.175808</td>\n",
       "      <td>0.250898</td>\n",
       "      <td>0.285688</td>\n",
       "      <td>0.195234</td>\n",
       "      <td>0.188153</td>\n",
       "      <td>...</td>\n",
       "      <td>0.180559</td>\n",
       "      <td>0.221895</td>\n",
       "      <td>0.229073</td>\n",
       "      <td>0.160828</td>\n",
       "      <td>0.146766</td>\n",
       "      <td>0.156750</td>\n",
       "      <td>0.169891</td>\n",
       "      <td>0.169181</td>\n",
       "      <td>0.235736</td>\n",
       "      <td>0.237132</td>\n",
       "    </tr>\n",
       "    <tr>\n",
       "      <th>2</th>\n",
       "      <td>30492</td>\n",
       "      <td>0.414457</td>\n",
       "      <td>0.384740</td>\n",
       "      <td>0.401166</td>\n",
       "      <td>0.384835</td>\n",
       "      <td>0.532046</td>\n",
       "      <td>0.660720</td>\n",
       "      <td>0.666332</td>\n",
       "      <td>0.423194</td>\n",
       "      <td>0.378348</td>\n",
       "      <td>...</td>\n",
       "      <td>0.561611</td>\n",
       "      <td>0.673586</td>\n",
       "      <td>0.698771</td>\n",
       "      <td>0.478442</td>\n",
       "      <td>0.418764</td>\n",
       "      <td>0.431835</td>\n",
       "      <td>0.427030</td>\n",
       "      <td>0.559299</td>\n",
       "      <td>0.725329</td>\n",
       "      <td>0.670930</td>\n",
       "    </tr>\n",
       "    <tr>\n",
       "      <th>3</th>\n",
       "      <td>30493</td>\n",
       "      <td>1.658047</td>\n",
       "      <td>1.380087</td>\n",
       "      <td>1.419791</td>\n",
       "      <td>1.589146</td>\n",
       "      <td>2.070715</td>\n",
       "      <td>3.243275</td>\n",
       "      <td>3.309544</td>\n",
       "      <td>1.660615</td>\n",
       "      <td>1.437783</td>\n",
       "      <td>...</td>\n",
       "      <td>1.924799</td>\n",
       "      <td>2.652830</td>\n",
       "      <td>3.465477</td>\n",
       "      <td>1.698255</td>\n",
       "      <td>1.506341</td>\n",
       "      <td>1.474247</td>\n",
       "      <td>1.456103</td>\n",
       "      <td>2.018187</td>\n",
       "      <td>3.121930</td>\n",
       "      <td>3.500604</td>\n",
       "    </tr>\n",
       "    <tr>\n",
       "      <th>4</th>\n",
       "      <td>30494</td>\n",
       "      <td>0.871253</td>\n",
       "      <td>0.861122</td>\n",
       "      <td>0.848022</td>\n",
       "      <td>0.922487</td>\n",
       "      <td>1.103300</td>\n",
       "      <td>1.495416</td>\n",
       "      <td>1.572273</td>\n",
       "      <td>1.025886</td>\n",
       "      <td>0.981433</td>\n",
       "      <td>...</td>\n",
       "      <td>1.024780</td>\n",
       "      <td>1.443258</td>\n",
       "      <td>1.589310</td>\n",
       "      <td>0.929200</td>\n",
       "      <td>0.874277</td>\n",
       "      <td>0.907934</td>\n",
       "      <td>0.902801</td>\n",
       "      <td>1.060429</td>\n",
       "      <td>1.439007</td>\n",
       "      <td>1.484378</td>\n",
       "    </tr>\n",
       "  </tbody>\n",
       "</table>\n",
       "<p>5 rows × 29 columns</p>\n",
       "</div>"
      ],
      "text/plain": [
       "   Unnamed: 0        F1        F2        F3        F4        F5        F6  \\\n",
       "0       30490  0.783889  0.725020  0.719282  0.741555  0.910231  1.068287   \n",
       "1       30491  0.143639  0.146079  0.139069  0.154118  0.175808  0.250898   \n",
       "2       30492  0.414457  0.384740  0.401166  0.384835  0.532046  0.660720   \n",
       "3       30493  1.658047  1.380087  1.419791  1.589146  2.070715  3.243275   \n",
       "4       30494  0.871253  0.861122  0.848022  0.922487  1.103300  1.495416   \n",
       "\n",
       "         F7        F8        F9  ...       F19       F20       F21       F22  \\\n",
       "0  1.198409  0.801078  0.868005  ...  0.783010  0.981762  1.030879  0.840752   \n",
       "1  0.285688  0.195234  0.188153  ...  0.180559  0.221895  0.229073  0.160828   \n",
       "2  0.666332  0.423194  0.378348  ...  0.561611  0.673586  0.698771  0.478442   \n",
       "3  3.309544  1.660615  1.437783  ...  1.924799  2.652830  3.465477  1.698255   \n",
       "4  1.572273  1.025886  0.981433  ...  1.024780  1.443258  1.589310  0.929200   \n",
       "\n",
       "        F23       F24       F25       F26       F27       F28  \n",
       "0  0.747888  0.770625  0.782680  0.944883  0.997164  0.978925  \n",
       "1  0.146766  0.156750  0.169891  0.169181  0.235736  0.237132  \n",
       "2  0.418764  0.431835  0.427030  0.559299  0.725329  0.670930  \n",
       "3  1.506341  1.474247  1.456103  2.018187  3.121930  3.500604  \n",
       "4  0.874277  0.907934  0.902801  1.060429  1.439007  1.484378  \n",
       "\n",
       "[5 rows x 29 columns]"
      ]
     },
     "execution_count": 11,
     "metadata": {},
     "output_type": "execute_result"
    }
   ],
   "source": [
    "sub.head()"
   ]
  },
  {
   "cell_type": "code",
   "execution_count": null,
   "metadata": {},
   "outputs": [],
   "source": []
  }
 ],
 "metadata": {
  "kernelspec": {
   "display_name": "Python 3",
   "language": "python",
   "name": "python3"
  },
  "language_info": {
   "codemirror_mode": {
    "name": "ipython",
    "version": 3
   },
   "file_extension": ".py",
   "mimetype": "text/x-python",
   "name": "python",
   "nbconvert_exporter": "python",
   "pygments_lexer": "ipython3",
   "version": "3.7.6"
  }
 },
 "nbformat": 4,
 "nbformat_minor": 4
}
