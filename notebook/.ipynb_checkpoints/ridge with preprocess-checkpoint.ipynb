{
 "cells": [
  {
   "cell_type": "code",
   "execution_count": 2,
   "metadata": {},
   "outputs": [],
   "source": [
    "import pandas as pd\n",
    "import numpy as np\n",
    "import gc\n",
    "import category_encoders as ce\n",
    "\n",
    "pd.set_option('display.max_columns', 100)"
   ]
  },
  {
   "cell_type": "code",
<<<<<<< HEAD
   "execution_count": 7,
   "metadata": {},
   "outputs": [
    {
     "data": {
      "text/html": [
       "<div>\n",
       "<style scoped>\n",
       "    .dataframe tbody tr th:only-of-type {\n",
       "        vertical-align: middle;\n",
       "    }\n",
       "\n",
       "    .dataframe tbody tr th {\n",
       "        vertical-align: top;\n",
       "    }\n",
       "\n",
       "    .dataframe thead th {\n",
       "        text-align: right;\n",
       "    }\n",
       "</style>\n",
       "<table border=\"1\" class=\"dataframe\">\n",
       "  <thead>\n",
       "    <tr style=\"text-align: right;\">\n",
       "      <th></th>\n",
       "      <th>id</th>\n",
       "      <th>item_id</th>\n",
       "      <th>dept_id</th>\n",
       "      <th>cat_id</th>\n",
       "      <th>store_id</th>\n",
       "      <th>state_id</th>\n",
       "      <th>d</th>\n",
       "      <th>sales</th>\n",
       "      <th>release</th>\n",
       "      <th>sell_price</th>\n",
       "      <th>price_max</th>\n",
       "      <th>price_min</th>\n",
       "      <th>price_std</th>\n",
       "      <th>price_mean</th>\n",
       "      <th>price_norm</th>\n",
       "      <th>price_nunique</th>\n",
       "      <th>item_nunique</th>\n",
       "      <th>price_momentum</th>\n",
       "      <th>price_momentum_m</th>\n",
       "      <th>price_momentum_y</th>\n",
       "      <th>event_name_1</th>\n",
       "      <th>event_type_1</th>\n",
       "      <th>event_name_2</th>\n",
       "      <th>event_type_2</th>\n",
       "      <th>snap_CA</th>\n",
       "      <th>snap_TX</th>\n",
       "      <th>snap_WI</th>\n",
       "      <th>tm_d</th>\n",
       "      <th>tm_w</th>\n",
       "      <th>tm_m</th>\n",
       "      <th>tm_y</th>\n",
       "      <th>tm_wm</th>\n",
       "      <th>tm_dw</th>\n",
       "      <th>tm_w_end</th>\n",
       "    </tr>\n",
       "  </thead>\n",
       "  <tbody>\n",
       "    <tr>\n",
       "      <th>31492198</th>\n",
       "      <td>HOBBIES_1_001_CA_1_validation</td>\n",
       "      <td>HOBBIES_1_001</td>\n",
       "      <td>HOBBIES_1</td>\n",
       "      <td>HOBBIES</td>\n",
       "      <td>CA_1</td>\n",
       "      <td>CA</td>\n",
       "      <td>1434</td>\n",
       "      <td>0.0</td>\n",
       "      <td>224</td>\n",
       "      <td>8.257812</td>\n",
       "      <td>9.578125</td>\n",
       "      <td>8.257812</td>\n",
       "      <td>0.152100</td>\n",
       "      <td>8.289062</td>\n",
       "      <td>0.862305</td>\n",
       "      <td>3.0</td>\n",
       "      <td>5</td>\n",
       "      <td>1.0</td>\n",
       "      <td>1.000000</td>\n",
       "      <td>1.000000</td>\n",
       "      <td>NewYear</td>\n",
       "      <td>National</td>\n",
       "      <td>NaN</td>\n",
       "      <td>NaN</td>\n",
       "      <td>1</td>\n",
       "      <td>1</td>\n",
       "      <td>0</td>\n",
       "      <td>1</td>\n",
       "      <td>1</td>\n",
       "      <td>1</td>\n",
       "      <td>4</td>\n",
       "      <td>1</td>\n",
       "      <td>3</td>\n",
       "      <td>0</td>\n",
       "    </tr>\n",
       "    <tr>\n",
       "      <th>31492199</th>\n",
       "      <td>HOBBIES_1_002_CA_1_validation</td>\n",
       "      <td>HOBBIES_1_002</td>\n",
       "      <td>HOBBIES_1</td>\n",
       "      <td>HOBBIES</td>\n",
       "      <td>CA_1</td>\n",
       "      <td>CA</td>\n",
       "      <td>1434</td>\n",
       "      <td>0.0</td>\n",
       "      <td>20</td>\n",
       "      <td>3.970703</td>\n",
       "      <td>3.970703</td>\n",
       "      <td>3.970703</td>\n",
       "      <td>0.000000</td>\n",
       "      <td>3.970703</td>\n",
       "      <td>1.000000</td>\n",
       "      <td>1.0</td>\n",
       "      <td>131</td>\n",
       "      <td>1.0</td>\n",
       "      <td>1.000000</td>\n",
       "      <td>1.000000</td>\n",
       "      <td>NewYear</td>\n",
       "      <td>National</td>\n",
       "      <td>NaN</td>\n",
       "      <td>NaN</td>\n",
       "      <td>1</td>\n",
       "      <td>1</td>\n",
       "      <td>0</td>\n",
       "      <td>1</td>\n",
       "      <td>1</td>\n",
       "      <td>1</td>\n",
       "      <td>4</td>\n",
       "      <td>1</td>\n",
       "      <td>3</td>\n",
       "      <td>0</td>\n",
       "    </tr>\n",
       "    <tr>\n",
       "      <th>31492200</th>\n",
       "      <td>HOBBIES_1_003_CA_1_validation</td>\n",
       "      <td>HOBBIES_1_003</td>\n",
       "      <td>HOBBIES_1</td>\n",
       "      <td>HOBBIES</td>\n",
       "      <td>CA_1</td>\n",
       "      <td>CA</td>\n",
       "      <td>1434</td>\n",
       "      <td>0.0</td>\n",
       "      <td>300</td>\n",
       "      <td>2.970703</td>\n",
       "      <td>2.970703</td>\n",
       "      <td>2.970703</td>\n",
       "      <td>0.000000</td>\n",
       "      <td>2.970703</td>\n",
       "      <td>1.000000</td>\n",
       "      <td>1.0</td>\n",
       "      <td>118</td>\n",
       "      <td>1.0</td>\n",
       "      <td>1.000000</td>\n",
       "      <td>1.000000</td>\n",
       "      <td>NewYear</td>\n",
       "      <td>National</td>\n",
       "      <td>NaN</td>\n",
       "      <td>NaN</td>\n",
       "      <td>1</td>\n",
       "      <td>1</td>\n",
       "      <td>0</td>\n",
       "      <td>1</td>\n",
       "      <td>1</td>\n",
       "      <td>1</td>\n",
       "      <td>4</td>\n",
       "      <td>1</td>\n",
       "      <td>3</td>\n",
       "      <td>0</td>\n",
       "    </tr>\n",
       "    <tr>\n",
       "      <th>31492201</th>\n",
       "      <td>HOBBIES_1_004_CA_1_validation</td>\n",
       "      <td>HOBBIES_1_004</td>\n",
       "      <td>HOBBIES_1</td>\n",
       "      <td>HOBBIES</td>\n",
       "      <td>CA_1</td>\n",
       "      <td>CA</td>\n",
       "      <td>1434</td>\n",
       "      <td>2.0</td>\n",
       "      <td>5</td>\n",
       "      <td>4.640625</td>\n",
       "      <td>4.640625</td>\n",
       "      <td>4.339844</td>\n",
       "      <td>0.145264</td>\n",
       "      <td>4.527344</td>\n",
       "      <td>1.000000</td>\n",
       "      <td>2.0</td>\n",
       "      <td>2</td>\n",
       "      <td>1.0</td>\n",
       "      <td>1.030273</td>\n",
       "      <td>1.000000</td>\n",
       "      <td>NewYear</td>\n",
       "      <td>National</td>\n",
       "      <td>NaN</td>\n",
       "      <td>NaN</td>\n",
       "      <td>1</td>\n",
       "      <td>1</td>\n",
       "      <td>0</td>\n",
       "      <td>1</td>\n",
       "      <td>1</td>\n",
       "      <td>1</td>\n",
       "      <td>4</td>\n",
       "      <td>1</td>\n",
       "      <td>3</td>\n",
       "      <td>0</td>\n",
       "    </tr>\n",
       "    <tr>\n",
       "      <th>31492202</th>\n",
       "      <td>HOBBIES_1_005_CA_1_validation</td>\n",
       "      <td>HOBBIES_1_005</td>\n",
       "      <td>HOBBIES_1</td>\n",
       "      <td>HOBBIES</td>\n",
       "      <td>CA_1</td>\n",
       "      <td>CA</td>\n",
       "      <td>1434</td>\n",
       "      <td>3.0</td>\n",
       "      <td>16</td>\n",
       "      <td>2.880859</td>\n",
       "      <td>3.080078</td>\n",
       "      <td>2.480469</td>\n",
       "      <td>0.150146</td>\n",
       "      <td>2.941406</td>\n",
       "      <td>0.935059</td>\n",
       "      <td>4.0</td>\n",
       "      <td>161</td>\n",
       "      <td>1.0</td>\n",
       "      <td>1.002930</td>\n",
       "      <td>0.963867</td>\n",
       "      <td>NewYear</td>\n",
       "      <td>National</td>\n",
       "      <td>NaN</td>\n",
       "      <td>NaN</td>\n",
       "      <td>1</td>\n",
       "      <td>1</td>\n",
       "      <td>0</td>\n",
       "      <td>1</td>\n",
       "      <td>1</td>\n",
       "      <td>1</td>\n",
       "      <td>4</td>\n",
       "      <td>1</td>\n",
       "      <td>3</td>\n",
       "      <td>0</td>\n",
       "    </tr>\n",
       "  </tbody>\n",
       "</table>\n",
       "</div>"
      ],
      "text/plain": [
       "                                     id        item_id    dept_id   cat_id  \\\n",
       "31492198  HOBBIES_1_001_CA_1_validation  HOBBIES_1_001  HOBBIES_1  HOBBIES   \n",
       "31492199  HOBBIES_1_002_CA_1_validation  HOBBIES_1_002  HOBBIES_1  HOBBIES   \n",
       "31492200  HOBBIES_1_003_CA_1_validation  HOBBIES_1_003  HOBBIES_1  HOBBIES   \n",
       "31492201  HOBBIES_1_004_CA_1_validation  HOBBIES_1_004  HOBBIES_1  HOBBIES   \n",
       "31492202  HOBBIES_1_005_CA_1_validation  HOBBIES_1_005  HOBBIES_1  HOBBIES   \n",
       "\n",
       "         store_id state_id     d  sales  release  sell_price  price_max  \\\n",
       "31492198     CA_1       CA  1434    0.0      224    8.257812   9.578125   \n",
       "31492199     CA_1       CA  1434    0.0       20    3.970703   3.970703   \n",
       "31492200     CA_1       CA  1434    0.0      300    2.970703   2.970703   \n",
       "31492201     CA_1       CA  1434    2.0        5    4.640625   4.640625   \n",
       "31492202     CA_1       CA  1434    3.0       16    2.880859   3.080078   \n",
       "\n",
       "          price_min  price_std  price_mean  price_norm  price_nunique  \\\n",
       "31492198   8.257812   0.152100    8.289062    0.862305            3.0   \n",
       "31492199   3.970703   0.000000    3.970703    1.000000            1.0   \n",
       "31492200   2.970703   0.000000    2.970703    1.000000            1.0   \n",
       "31492201   4.339844   0.145264    4.527344    1.000000            2.0   \n",
       "31492202   2.480469   0.150146    2.941406    0.935059            4.0   \n",
       "\n",
       "          item_nunique  price_momentum  price_momentum_m  price_momentum_y  \\\n",
       "31492198             5             1.0          1.000000          1.000000   \n",
       "31492199           131             1.0          1.000000          1.000000   \n",
       "31492200           118             1.0          1.000000          1.000000   \n",
       "31492201             2             1.0          1.030273          1.000000   \n",
       "31492202           161             1.0          1.002930          0.963867   \n",
       "\n",
       "         event_name_1 event_type_1 event_name_2 event_type_2 snap_CA snap_TX  \\\n",
       "31492198      NewYear     National          NaN          NaN       1       1   \n",
       "31492199      NewYear     National          NaN          NaN       1       1   \n",
       "31492200      NewYear     National          NaN          NaN       1       1   \n",
       "31492201      NewYear     National          NaN          NaN       1       1   \n",
       "31492202      NewYear     National          NaN          NaN       1       1   \n",
       "\n",
       "         snap_WI  tm_d  tm_w  tm_m  tm_y  tm_wm  tm_dw  tm_w_end  \n",
       "31492198       0     1     1     1     4      1      3         0  \n",
       "31492199       0     1     1     1     4      1      3         0  \n",
       "31492200       0     1     1     1     4      1      3         0  \n",
       "31492201       0     1     1     1     4      1      3         0  \n",
       "31492202       0     1     1     1     4      1      3         0  "
      ]
     },
     "execution_count": 7,
     "metadata": {},
     "output_type": "execute_result"
    }
   ],
   "source": [
    "grid_df = pd.read_pickle('../data/input/grid_2015.pkl')\n",
=======
   "execution_count": 4,
   "metadata": {},
   "outputs": [
    {
     "ename": "FileNotFoundError",
     "evalue": "[Errno 2] No such file or directory: '..\\\\data\\\\input\\\\grid_part_2015.pkl'",
     "output_type": "error",
     "traceback": [
      "\u001b[1;31m---------------------------------------------------------------------------\u001b[0m",
      "\u001b[1;31mFileNotFoundError\u001b[0m                         Traceback (most recent call last)",
      "\u001b[1;32m<ipython-input-4-9b2274f92405>\u001b[0m in \u001b[0;36m<module>\u001b[1;34m\u001b[0m\n\u001b[1;32m----> 1\u001b[1;33m \u001b[0mgrid_df\u001b[0m \u001b[1;33m=\u001b[0m \u001b[0mpd\u001b[0m\u001b[1;33m.\u001b[0m\u001b[0mread_pickle\u001b[0m\u001b[1;33m(\u001b[0m\u001b[1;34m'..\\data\\input\\grid_part_2015.pkl'\u001b[0m\u001b[1;33m)\u001b[0m\u001b[1;33m\u001b[0m\u001b[1;33m\u001b[0m\u001b[0m\n\u001b[0m\u001b[0;32m      2\u001b[0m \u001b[0mgrid_df\u001b[0m\u001b[1;33m.\u001b[0m\u001b[0mhead\u001b[0m\u001b[1;33m(\u001b[0m\u001b[1;33m)\u001b[0m\u001b[1;33m\u001b[0m\u001b[1;33m\u001b[0m\u001b[0m\n",
      "\u001b[1;32m~\\Anaconda3\\envs\\tensorflow_test\\lib\\site-packages\\pandas\\io\\pickle.py\u001b[0m in \u001b[0;36mread_pickle\u001b[1;34m(filepath_or_buffer, compression)\u001b[0m\n\u001b[0;32m    168\u001b[0m     \u001b[1;32mif\u001b[0m \u001b[1;32mnot\u001b[0m \u001b[0misinstance\u001b[0m\u001b[1;33m(\u001b[0m\u001b[0mfp_or_buf\u001b[0m\u001b[1;33m,\u001b[0m \u001b[0mstr\u001b[0m\u001b[1;33m)\u001b[0m \u001b[1;32mand\u001b[0m \u001b[0mcompression\u001b[0m \u001b[1;33m==\u001b[0m \u001b[1;34m\"infer\"\u001b[0m\u001b[1;33m:\u001b[0m\u001b[1;33m\u001b[0m\u001b[1;33m\u001b[0m\u001b[0m\n\u001b[0;32m    169\u001b[0m         \u001b[0mcompression\u001b[0m \u001b[1;33m=\u001b[0m \u001b[1;32mNone\u001b[0m\u001b[1;33m\u001b[0m\u001b[1;33m\u001b[0m\u001b[0m\n\u001b[1;32m--> 170\u001b[1;33m     \u001b[0mf\u001b[0m\u001b[1;33m,\u001b[0m \u001b[0mfh\u001b[0m \u001b[1;33m=\u001b[0m \u001b[0mget_handle\u001b[0m\u001b[1;33m(\u001b[0m\u001b[0mfp_or_buf\u001b[0m\u001b[1;33m,\u001b[0m \u001b[1;34m\"rb\"\u001b[0m\u001b[1;33m,\u001b[0m \u001b[0mcompression\u001b[0m\u001b[1;33m=\u001b[0m\u001b[0mcompression\u001b[0m\u001b[1;33m,\u001b[0m \u001b[0mis_text\u001b[0m\u001b[1;33m=\u001b[0m\u001b[1;32mFalse\u001b[0m\u001b[1;33m)\u001b[0m\u001b[1;33m\u001b[0m\u001b[1;33m\u001b[0m\u001b[0m\n\u001b[0m\u001b[0;32m    171\u001b[0m \u001b[1;33m\u001b[0m\u001b[0m\n\u001b[0;32m    172\u001b[0m     \u001b[1;31m# 1) try standard library Pickle\u001b[0m\u001b[1;33m\u001b[0m\u001b[1;33m\u001b[0m\u001b[1;33m\u001b[0m\u001b[0m\n",
      "\u001b[1;32m~\\Anaconda3\\envs\\tensorflow_test\\lib\\site-packages\\pandas\\io\\common.py\u001b[0m in \u001b[0;36mget_handle\u001b[1;34m(path_or_buf, mode, encoding, compression, memory_map, is_text)\u001b[0m\n\u001b[0;32m    459\u001b[0m         \u001b[1;32melse\u001b[0m\u001b[1;33m:\u001b[0m\u001b[1;33m\u001b[0m\u001b[1;33m\u001b[0m\u001b[0m\n\u001b[0;32m    460\u001b[0m             \u001b[1;31m# Binary mode\u001b[0m\u001b[1;33m\u001b[0m\u001b[1;33m\u001b[0m\u001b[1;33m\u001b[0m\u001b[0m\n\u001b[1;32m--> 461\u001b[1;33m             \u001b[0mf\u001b[0m \u001b[1;33m=\u001b[0m \u001b[0mopen\u001b[0m\u001b[1;33m(\u001b[0m\u001b[0mpath_or_buf\u001b[0m\u001b[1;33m,\u001b[0m \u001b[0mmode\u001b[0m\u001b[1;33m)\u001b[0m\u001b[1;33m\u001b[0m\u001b[1;33m\u001b[0m\u001b[0m\n\u001b[0m\u001b[0;32m    462\u001b[0m         \u001b[0mhandles\u001b[0m\u001b[1;33m.\u001b[0m\u001b[0mappend\u001b[0m\u001b[1;33m(\u001b[0m\u001b[0mf\u001b[0m\u001b[1;33m)\u001b[0m\u001b[1;33m\u001b[0m\u001b[1;33m\u001b[0m\u001b[0m\n\u001b[0;32m    463\u001b[0m \u001b[1;33m\u001b[0m\u001b[0m\n",
      "\u001b[1;31mFileNotFoundError\u001b[0m: [Errno 2] No such file or directory: '..\\\\data\\\\input\\\\grid_part_2015.pkl'"
     ]
    }
   ],
   "source": [
    "BASE_DIR = os.getcwd()\n",
    "grid_df = pd.read_pickle(os.path.join(BASE_DIR, 'data', 'input'))\n",
>>>>>>> e350e0c18e6bf85039693a9718dab9fdbc6cfb24
    "grid_df.head()"
   ]
  },
  {
   "cell_type": "code",
   "execution_count": 8,
   "metadata": {},
   "outputs": [
    {
     "data": {
      "text/plain": [
       "(11029922, 34)"
      ]
     },
     "execution_count": 8,
     "metadata": {},
     "output_type": "execute_result"
    }
   ],
   "source": [
    "grid_df.shape"
   ]
  },
  {
   "cell_type": "code",
   "execution_count": 9,
   "metadata": {},
   "outputs": [
    {
     "data": {
      "text/plain": [
       "Index(['id', 'item_id', 'dept_id', 'cat_id', 'store_id', 'state_id', 'd',\n",
       "       'sales', 'release', 'sell_price', 'price_max', 'price_min', 'price_std',\n",
       "       'price_mean', 'price_norm', 'price_nunique', 'item_nunique',\n",
       "       'price_momentum', 'price_momentum_m', 'price_momentum_y',\n",
       "       'event_name_1', 'event_type_1', 'event_name_2', 'event_type_2',\n",
       "       'snap_CA', 'snap_TX', 'snap_WI', 'tm_d', 'tm_w', 'tm_m', 'tm_y',\n",
       "       'tm_wm', 'tm_dw', 'tm_w_end'],\n",
       "      dtype='object')"
      ]
     },
     "execution_count": 9,
     "metadata": {},
     "output_type": "execute_result"
    }
   ],
   "source": [
    "grid_df.columns"
   ]
  },
  {
   "cell_type": "code",
   "execution_count": 10,
   "metadata": {},
   "outputs": [],
   "source": [
    "cat_cols = ['id', 'item_id', 'dept_id', 'cat_id', 'store_id', 'state_id', 'event_name_1', 'event_type_1', \n",
    "            'event_name_2', 'event_type_2', 'snap_CA', 'snap_TX', 'snap_WI' ]\n",
    "num_cols = ['d', 'sales', 'release', 'sell_price', 'price_max', 'price_min', 'price_std', 'price_mean', \n",
    "            'price_norm', 'price_nunique', 'item_nunique', 'price_momentum', 'price_momentum_m', 'price_momentum_y']\n",
    "unuse_cols = ['id', 'item_id', 'cat_id', 'store_id', 'event_name_2', 'event_type_2']"
   ]
  },
  {
   "cell_type": "code",
   "execution_count": 11,
   "metadata": {},
   "outputs": [
    {
     "data": {
      "text/plain": [
       "<bound method DataFrame.info of                                      id        item_id    dept_id   cat_id  \\\n",
       "31492198  HOBBIES_1_001_CA_1_validation  HOBBIES_1_001  HOBBIES_1  HOBBIES   \n",
       "31492199  HOBBIES_1_002_CA_1_validation  HOBBIES_1_002  HOBBIES_1  HOBBIES   \n",
       "31492200  HOBBIES_1_003_CA_1_validation  HOBBIES_1_003  HOBBIES_1  HOBBIES   \n",
       "31492201  HOBBIES_1_004_CA_1_validation  HOBBIES_1_004  HOBBIES_1  HOBBIES   \n",
       "31492202  HOBBIES_1_005_CA_1_validation  HOBBIES_1_005  HOBBIES_1  HOBBIES   \n",
       "...                                 ...            ...        ...      ...   \n",
       "42522115    FOODS_3_823_WI_3_validation    FOODS_3_823    FOODS_3    FOODS   \n",
       "42522116    FOODS_3_824_WI_3_validation    FOODS_3_824    FOODS_3    FOODS   \n",
       "42522117    FOODS_3_825_WI_3_validation    FOODS_3_825    FOODS_3    FOODS   \n",
       "42522118    FOODS_3_826_WI_3_validation    FOODS_3_826    FOODS_3    FOODS   \n",
       "42522119    FOODS_3_827_WI_3_validation    FOODS_3_827    FOODS_3    FOODS   \n",
       "\n",
       "         store_id state_id     d  sales  release  sell_price  price_max  \\\n",
       "31492198     CA_1       CA  1434    0.0      224    8.257812   9.578125   \n",
       "31492199     CA_1       CA  1434    0.0       20    3.970703   3.970703   \n",
       "31492200     CA_1       CA  1434    0.0      300    2.970703   2.970703   \n",
       "31492201     CA_1       CA  1434    2.0        5    4.640625   4.640625   \n",
       "31492202     CA_1       CA  1434    3.0       16    2.880859   3.080078   \n",
       "...           ...      ...   ...    ...      ...         ...        ...   \n",
       "42522115     WI_3       WI  1798    1.0        0    2.500000   2.980469   \n",
       "42522116     WI_3       WI  1798    0.0        0    2.000000   2.679688   \n",
       "42522117     WI_3       WI  1798    1.0        0    3.980469   4.378906   \n",
       "42522118     WI_3       WI  1798    0.0      230    1.280273   1.280273   \n",
       "42522119     WI_3       WI  1798    0.0      304    1.000000   1.000000   \n",
       "\n",
       "          price_min  price_std  price_mean  price_norm  price_nunique  \\\n",
       "31492198   8.257812   0.152100    8.289062    0.862305            3.0   \n",
       "31492199   3.970703   0.000000    3.970703    1.000000            1.0   \n",
       "31492200   2.970703   0.000000    2.970703    1.000000            1.0   \n",
       "31492201   4.339844   0.145264    4.527344    1.000000            2.0   \n",
       "31492202   2.480469   0.150146    2.941406    0.935059            4.0   \n",
       "...             ...        ...         ...         ...            ...   \n",
       "42522115   2.480469   0.171631    2.800781    0.838867            5.0   \n",
       "42522116   2.000000   0.253174    2.507812    0.746094            4.0   \n",
       "42522117   3.980469   0.188599    4.117188    0.908691            3.0   \n",
       "42522118   1.280273   0.000000    1.280273    1.000000            1.0   \n",
       "42522119   1.000000   0.000000    1.000000    1.000000            1.0   \n",
       "\n",
       "          item_nunique  price_momentum  price_momentum_m  price_momentum_y  \\\n",
       "31492198             5             1.0          1.000000          1.000000   \n",
       "31492199           131             1.0          1.000000          1.000000   \n",
       "31492200           118             1.0          1.000000          1.000000   \n",
       "31492201             2             1.0          1.030273          1.000000   \n",
       "31492202           161             1.0          1.002930          0.963867   \n",
       "...                ...             ...               ...               ...   \n",
       "42522115           221             1.0          0.944824          0.886230   \n",
       "42522116           132             1.0          0.796387          0.916016   \n",
       "42522117           150             1.0          0.956543          1.000000   \n",
       "42522118            44             1.0          1.000000          1.000000   \n",
       "42522119           142             1.0          1.000000          1.000000   \n",
       "\n",
       "         event_name_1 event_type_1 event_name_2 event_type_2 snap_CA snap_TX  \\\n",
       "31492198      NewYear     National          NaN          NaN       1       1   \n",
       "31492199      NewYear     National          NaN          NaN       1       1   \n",
       "31492200      NewYear     National          NaN          NaN       1       1   \n",
       "31492201      NewYear     National          NaN          NaN       1       1   \n",
       "31492202      NewYear     National          NaN          NaN       1       1   \n",
       "...               ...          ...          ...          ...     ...     ...   \n",
       "42522115          NaN          NaN          NaN          NaN       0       0   \n",
       "42522116          NaN          NaN          NaN          NaN       0       0   \n",
       "42522117          NaN          NaN          NaN          NaN       0       0   \n",
       "42522118          NaN          NaN          NaN          NaN       0       0   \n",
       "42522119          NaN          NaN          NaN          NaN       0       0   \n",
       "\n",
       "         snap_WI  tm_d  tm_w  tm_m  tm_y  tm_wm  tm_dw  tm_w_end  \n",
       "31492198       0     1     1     1     4      1      3         0  \n",
       "31492199       0     1     1     1     4      1      3         0  \n",
       "31492200       0     1     1     1     4      1      3         0  \n",
       "31492201       0     1     1     1     4      1      3         0  \n",
       "31492202       0     1     1     1     4      1      3         0  \n",
       "...          ...   ...   ...   ...   ...    ...    ...       ...  \n",
       "42522115       0    31    53    12     4      5      3         0  \n",
       "42522116       0    31    53    12     4      5      3         0  \n",
       "42522117       0    31    53    12     4      5      3         0  \n",
       "42522118       0    31    53    12     4      5      3         0  \n",
       "42522119       0    31    53    12     4      5      3         0  \n",
       "\n",
       "[11029922 rows x 34 columns]>"
      ]
     },
     "execution_count": 11,
     "metadata": {},
     "output_type": "execute_result"
    }
   ],
   "source": [
    "grid_df.info"
   ]
  },
  {
   "cell_type": "code",
   "execution_count": 12,
   "metadata": {},
   "outputs": [
    {
     "data": {
      "text/plain": [
       "(10999456, 34)"
      ]
     },
     "execution_count": 12,
     "metadata": {},
     "output_type": "execute_result"
    }
   ],
   "source": [
    "grid_df[(grid_df['event_name_1'].isnull()) | (grid_df['event_name_1']!='Christmas')].shape"
   ]
  },
  {
   "cell_type": "code",
   "execution_count": 13,
   "metadata": {},
   "outputs": [],
   "source": [
    "grid_may_june = grid_df[(grid_df.tm_m==5)|(grid_df.tm_m==6)]"
   ]
  },
  {
   "cell_type": "code",
   "execution_count": 14,
   "metadata": {},
   "outputs": [
    {
     "data": {
      "text/plain": [
       "[NaN, Cinco De Mayo, Mother's day, MemorialDay, NBAFinalsStart, NBAFinalsEnd, Ramadan starts, Father's day]\n",
       "Categories (7, object): [Cinco De Mayo, Mother's day, MemorialDay, NBAFinalsStart, NBAFinalsEnd, Ramadan starts, Father's day]"
      ]
     },
     "execution_count": 14,
     "metadata": {},
     "output_type": "execute_result"
    }
   ],
   "source": [
    "grid_may_june.event_name_1.unique()"
   ]
  },
  {
   "cell_type": "code",
   "execution_count": 15,
   "metadata": {},
   "outputs": [
    {
     "data": {
      "text/plain": [
       "store_id  item_id           \n",
       "CA_1      FOODS_1_001      0     2.199219\n",
       "          FOODS_1_002      0     9.500000\n",
       "          FOODS_1_003      0     3.199219\n",
       "          FOODS_1_004      0     2.000000\n",
       "          FOODS_1_005      0     3.500000\n",
       "                                  ...    \n",
       "WI_3      HOUSEHOLD_2_512  0     4.000000\n",
       "          HOUSEHOLD_2_513  0     2.800781\n",
       "          HOUSEHOLD_2_514  0    19.593750\n",
       "          HOUSEHOLD_2_515  0     2.000000\n",
       "          HOUSEHOLD_2_516  0     5.898438\n",
       "Name: sell_price, Length: 30476, dtype: float16"
      ]
     },
     "execution_count": 15,
     "metadata": {},
     "output_type": "execute_result"
    }
   ],
   "source": [
    "grid_df.groupby(['store_id', 'item_id'])['sell_price'].apply(lambda x: round(x, 1).mode())"
   ]
  },
  {
   "cell_type": "code",
   "execution_count": 16,
   "metadata": {},
   "outputs": [],
   "source": [
    "list_cols = \n",
    "ce_ohe = ce.OneHotEncoder(cols=list_cols,handle_unknown='impute')"
   ]
  },
  {
   "cell_type": "code",
   "execution_count": null,
   "metadata": {},
   "outputs": [],
   "source": [
    "grid_df_one_hot = ce_ohe.fit_transform(grid_df)\n",
    "grid_df_one_hot.head()"
   ]
  },
  {
   "cell_type": "code",
   "execution_count": null,
   "metadata": {},
   "outputs": [],
   "source": []
  }
 ],
 "metadata": {
  "kernelspec": {
   "display_name": "Python 3",
   "language": "python",
   "name": "python3"
  },
  "language_info": {
   "codemirror_mode": {
    "name": "ipython",
    "version": 3
   },
   "file_extension": ".py",
   "mimetype": "text/x-python",
   "name": "python",
   "nbconvert_exporter": "python",
   "pygments_lexer": "ipython3",
   "version": "3.7.7"
  }
 },
 "nbformat": 4,
 "nbformat_minor": 4
}
