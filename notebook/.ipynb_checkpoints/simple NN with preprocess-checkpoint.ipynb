{
 "cells": [
  {
   "cell_type": "code",
   "execution_count": 34,
   "metadata": {},
   "outputs": [],
   "source": [
    "import pandas as pd\n",
    "import numpy as np\n",
    "pd.set_option('display.max_columns', 100)\n",
    "import gc"
   ]
  },
  {
   "cell_type": "code",
   "execution_count": 35,
   "metadata": {},
   "outputs": [
    {
     "data": {
      "text/html": [
       "<div>\n",
       "<style scoped>\n",
       "    .dataframe tbody tr th:only-of-type {\n",
       "        vertical-align: middle;\n",
       "    }\n",
       "\n",
       "    .dataframe tbody tr th {\n",
       "        vertical-align: top;\n",
       "    }\n",
       "\n",
       "    .dataframe thead th {\n",
       "        text-align: right;\n",
       "    }\n",
       "</style>\n",
       "<table border=\"1\" class=\"dataframe\">\n",
       "  <thead>\n",
       "    <tr style=\"text-align: right;\">\n",
       "      <th></th>\n",
       "      <th>id</th>\n",
       "      <th>item_id</th>\n",
       "      <th>dept_id</th>\n",
       "      <th>cat_id</th>\n",
       "      <th>store_id</th>\n",
       "      <th>state_id</th>\n",
       "      <th>d</th>\n",
       "      <th>sales</th>\n",
       "      <th>release</th>\n",
       "      <th>sell_price</th>\n",
       "      <th>price_max</th>\n",
       "      <th>price_min</th>\n",
       "      <th>price_std</th>\n",
       "      <th>price_mean</th>\n",
       "      <th>price_norm</th>\n",
       "      <th>price_nunique</th>\n",
       "      <th>item_nunique</th>\n",
       "      <th>price_momentum</th>\n",
       "      <th>price_momentum_m</th>\n",
       "      <th>price_momentum_y</th>\n",
       "      <th>event_name_1</th>\n",
       "      <th>event_type_1</th>\n",
       "      <th>event_name_2</th>\n",
       "      <th>event_type_2</th>\n",
       "      <th>snap_CA</th>\n",
       "      <th>snap_TX</th>\n",
       "      <th>snap_WI</th>\n",
       "      <th>tm_d</th>\n",
       "      <th>tm_w</th>\n",
       "      <th>tm_m</th>\n",
       "      <th>tm_y</th>\n",
       "      <th>tm_wm</th>\n",
       "      <th>tm_dw</th>\n",
       "      <th>tm_w_end</th>\n",
       "    </tr>\n",
       "  </thead>\n",
       "  <tbody>\n",
       "    <tr>\n",
       "      <th>31492198</th>\n",
       "      <td>HOBBIES_1_001_CA_1_validation</td>\n",
       "      <td>HOBBIES_1_001</td>\n",
       "      <td>HOBBIES_1</td>\n",
       "      <td>HOBBIES</td>\n",
       "      <td>CA_1</td>\n",
       "      <td>CA</td>\n",
       "      <td>1434</td>\n",
       "      <td>0.0</td>\n",
       "      <td>224</td>\n",
       "      <td>8.257812</td>\n",
       "      <td>9.578125</td>\n",
       "      <td>8.257812</td>\n",
       "      <td>0.152100</td>\n",
       "      <td>8.289062</td>\n",
       "      <td>0.862305</td>\n",
       "      <td>3.0</td>\n",
       "      <td>5</td>\n",
       "      <td>1.0</td>\n",
       "      <td>1.000000</td>\n",
       "      <td>1.000000</td>\n",
       "      <td>NewYear</td>\n",
       "      <td>National</td>\n",
       "      <td>NaN</td>\n",
       "      <td>NaN</td>\n",
       "      <td>1</td>\n",
       "      <td>1</td>\n",
       "      <td>0</td>\n",
       "      <td>1</td>\n",
       "      <td>1</td>\n",
       "      <td>1</td>\n",
       "      <td>4</td>\n",
       "      <td>1</td>\n",
       "      <td>3</td>\n",
       "      <td>0</td>\n",
       "    </tr>\n",
       "    <tr>\n",
       "      <th>31492199</th>\n",
       "      <td>HOBBIES_1_002_CA_1_validation</td>\n",
       "      <td>HOBBIES_1_002</td>\n",
       "      <td>HOBBIES_1</td>\n",
       "      <td>HOBBIES</td>\n",
       "      <td>CA_1</td>\n",
       "      <td>CA</td>\n",
       "      <td>1434</td>\n",
       "      <td>0.0</td>\n",
       "      <td>20</td>\n",
       "      <td>3.970703</td>\n",
       "      <td>3.970703</td>\n",
       "      <td>3.970703</td>\n",
       "      <td>0.000000</td>\n",
       "      <td>3.970703</td>\n",
       "      <td>1.000000</td>\n",
       "      <td>1.0</td>\n",
       "      <td>131</td>\n",
       "      <td>1.0</td>\n",
       "      <td>1.000000</td>\n",
       "      <td>1.000000</td>\n",
       "      <td>NewYear</td>\n",
       "      <td>National</td>\n",
       "      <td>NaN</td>\n",
       "      <td>NaN</td>\n",
       "      <td>1</td>\n",
       "      <td>1</td>\n",
       "      <td>0</td>\n",
       "      <td>1</td>\n",
       "      <td>1</td>\n",
       "      <td>1</td>\n",
       "      <td>4</td>\n",
       "      <td>1</td>\n",
       "      <td>3</td>\n",
       "      <td>0</td>\n",
       "    </tr>\n",
       "    <tr>\n",
       "      <th>31492200</th>\n",
       "      <td>HOBBIES_1_003_CA_1_validation</td>\n",
       "      <td>HOBBIES_1_003</td>\n",
       "      <td>HOBBIES_1</td>\n",
       "      <td>HOBBIES</td>\n",
       "      <td>CA_1</td>\n",
       "      <td>CA</td>\n",
       "      <td>1434</td>\n",
       "      <td>0.0</td>\n",
       "      <td>300</td>\n",
       "      <td>2.970703</td>\n",
       "      <td>2.970703</td>\n",
       "      <td>2.970703</td>\n",
       "      <td>0.000000</td>\n",
       "      <td>2.970703</td>\n",
       "      <td>1.000000</td>\n",
       "      <td>1.0</td>\n",
       "      <td>118</td>\n",
       "      <td>1.0</td>\n",
       "      <td>1.000000</td>\n",
       "      <td>1.000000</td>\n",
       "      <td>NewYear</td>\n",
       "      <td>National</td>\n",
       "      <td>NaN</td>\n",
       "      <td>NaN</td>\n",
       "      <td>1</td>\n",
       "      <td>1</td>\n",
       "      <td>0</td>\n",
       "      <td>1</td>\n",
       "      <td>1</td>\n",
       "      <td>1</td>\n",
       "      <td>4</td>\n",
       "      <td>1</td>\n",
       "      <td>3</td>\n",
       "      <td>0</td>\n",
       "    </tr>\n",
       "    <tr>\n",
       "      <th>31492201</th>\n",
       "      <td>HOBBIES_1_004_CA_1_validation</td>\n",
       "      <td>HOBBIES_1_004</td>\n",
       "      <td>HOBBIES_1</td>\n",
       "      <td>HOBBIES</td>\n",
       "      <td>CA_1</td>\n",
       "      <td>CA</td>\n",
       "      <td>1434</td>\n",
       "      <td>2.0</td>\n",
       "      <td>5</td>\n",
       "      <td>4.640625</td>\n",
       "      <td>4.640625</td>\n",
       "      <td>4.339844</td>\n",
       "      <td>0.145264</td>\n",
       "      <td>4.527344</td>\n",
       "      <td>1.000000</td>\n",
       "      <td>2.0</td>\n",
       "      <td>2</td>\n",
       "      <td>1.0</td>\n",
       "      <td>1.030273</td>\n",
       "      <td>1.000000</td>\n",
       "      <td>NewYear</td>\n",
       "      <td>National</td>\n",
       "      <td>NaN</td>\n",
       "      <td>NaN</td>\n",
       "      <td>1</td>\n",
       "      <td>1</td>\n",
       "      <td>0</td>\n",
       "      <td>1</td>\n",
       "      <td>1</td>\n",
       "      <td>1</td>\n",
       "      <td>4</td>\n",
       "      <td>1</td>\n",
       "      <td>3</td>\n",
       "      <td>0</td>\n",
       "    </tr>\n",
       "    <tr>\n",
       "      <th>31492202</th>\n",
       "      <td>HOBBIES_1_005_CA_1_validation</td>\n",
       "      <td>HOBBIES_1_005</td>\n",
       "      <td>HOBBIES_1</td>\n",
       "      <td>HOBBIES</td>\n",
       "      <td>CA_1</td>\n",
       "      <td>CA</td>\n",
       "      <td>1434</td>\n",
       "      <td>3.0</td>\n",
       "      <td>16</td>\n",
       "      <td>2.880859</td>\n",
       "      <td>3.080078</td>\n",
       "      <td>2.480469</td>\n",
       "      <td>0.150146</td>\n",
       "      <td>2.941406</td>\n",
       "      <td>0.935059</td>\n",
       "      <td>4.0</td>\n",
       "      <td>161</td>\n",
       "      <td>1.0</td>\n",
       "      <td>1.002930</td>\n",
       "      <td>0.963867</td>\n",
       "      <td>NewYear</td>\n",
       "      <td>National</td>\n",
       "      <td>NaN</td>\n",
       "      <td>NaN</td>\n",
       "      <td>1</td>\n",
       "      <td>1</td>\n",
       "      <td>0</td>\n",
       "      <td>1</td>\n",
       "      <td>1</td>\n",
       "      <td>1</td>\n",
       "      <td>4</td>\n",
       "      <td>1</td>\n",
       "      <td>3</td>\n",
       "      <td>0</td>\n",
       "    </tr>\n",
       "  </tbody>\n",
       "</table>\n",
       "</div>"
      ],
      "text/plain": [
       "                                     id        item_id    dept_id   cat_id  \\\n",
       "31492198  HOBBIES_1_001_CA_1_validation  HOBBIES_1_001  HOBBIES_1  HOBBIES   \n",
       "31492199  HOBBIES_1_002_CA_1_validation  HOBBIES_1_002  HOBBIES_1  HOBBIES   \n",
       "31492200  HOBBIES_1_003_CA_1_validation  HOBBIES_1_003  HOBBIES_1  HOBBIES   \n",
       "31492201  HOBBIES_1_004_CA_1_validation  HOBBIES_1_004  HOBBIES_1  HOBBIES   \n",
       "31492202  HOBBIES_1_005_CA_1_validation  HOBBIES_1_005  HOBBIES_1  HOBBIES   \n",
       "\n",
       "         store_id state_id     d  sales  release  sell_price  price_max  \\\n",
       "31492198     CA_1       CA  1434    0.0      224    8.257812   9.578125   \n",
       "31492199     CA_1       CA  1434    0.0       20    3.970703   3.970703   \n",
       "31492200     CA_1       CA  1434    0.0      300    2.970703   2.970703   \n",
       "31492201     CA_1       CA  1434    2.0        5    4.640625   4.640625   \n",
       "31492202     CA_1       CA  1434    3.0       16    2.880859   3.080078   \n",
       "\n",
       "          price_min  price_std  price_mean  price_norm  price_nunique  \\\n",
       "31492198   8.257812   0.152100    8.289062    0.862305            3.0   \n",
       "31492199   3.970703   0.000000    3.970703    1.000000            1.0   \n",
       "31492200   2.970703   0.000000    2.970703    1.000000            1.0   \n",
       "31492201   4.339844   0.145264    4.527344    1.000000            2.0   \n",
       "31492202   2.480469   0.150146    2.941406    0.935059            4.0   \n",
       "\n",
       "          item_nunique  price_momentum  price_momentum_m  price_momentum_y  \\\n",
       "31492198             5             1.0          1.000000          1.000000   \n",
       "31492199           131             1.0          1.000000          1.000000   \n",
       "31492200           118             1.0          1.000000          1.000000   \n",
       "31492201             2             1.0          1.030273          1.000000   \n",
       "31492202           161             1.0          1.002930          0.963867   \n",
       "\n",
       "         event_name_1 event_type_1 event_name_2 event_type_2 snap_CA snap_TX  \\\n",
       "31492198      NewYear     National          NaN          NaN       1       1   \n",
       "31492199      NewYear     National          NaN          NaN       1       1   \n",
       "31492200      NewYear     National          NaN          NaN       1       1   \n",
       "31492201      NewYear     National          NaN          NaN       1       1   \n",
       "31492202      NewYear     National          NaN          NaN       1       1   \n",
       "\n",
       "         snap_WI  tm_d  tm_w  tm_m  tm_y  tm_wm  tm_dw  tm_w_end  \n",
       "31492198       0     1     1     1     4      1      3         0  \n",
       "31492199       0     1     1     1     4      1      3         0  \n",
       "31492200       0     1     1     1     4      1      3         0  \n",
       "31492201       0     1     1     1     4      1      3         0  \n",
       "31492202       0     1     1     1     4      1      3         0  "
      ]
     },
     "execution_count": 35,
     "metadata": {},
     "output_type": "execute_result"
    }
   ],
   "source": [
    "grid_df = pd.read_pickle('../data/input/grid_part_2015.pkl')\n",
    "grid_df.head()"
   ]
  },
  {
   "cell_type": "code",
   "execution_count": 36,
   "metadata": {},
   "outputs": [
    {
     "data": {
      "text/plain": [
       "(1107815, 34)"
      ]
     },
     "execution_count": 36,
     "metadata": {},
     "output_type": "execute_result"
    }
   ],
   "source": [
    "grid_df.shape"
   ]
  },
  {
   "cell_type": "code",
   "execution_count": 37,
   "metadata": {},
   "outputs": [
    {
     "data": {
      "text/plain": [
       "Index(['id', 'item_id', 'dept_id', 'cat_id', 'store_id', 'state_id', 'd',\n",
       "       'sales', 'release', 'sell_price', 'price_max', 'price_min', 'price_std',\n",
       "       'price_mean', 'price_norm', 'price_nunique', 'item_nunique',\n",
       "       'price_momentum', 'price_momentum_m', 'price_momentum_y',\n",
       "       'event_name_1', 'event_type_1', 'event_name_2', 'event_type_2',\n",
       "       'snap_CA', 'snap_TX', 'snap_WI', 'tm_d', 'tm_w', 'tm_m', 'tm_y',\n",
       "       'tm_wm', 'tm_dw', 'tm_w_end'],\n",
       "      dtype='object')"
      ]
     },
     "execution_count": 37,
     "metadata": {},
     "output_type": "execute_result"
    }
   ],
   "source": [
    "grid_df.columns"
   ]
  },
  {
   "cell_type": "code",
   "execution_count": 38,
   "metadata": {},
   "outputs": [
    {
     "name": "stdout",
     "output_type": "stream",
     "text": [
      "<class 'pandas.core.frame.DataFrame'>\n",
      "Int64Index: 1107815 entries, 31492198 to 42494692\n",
      "Data columns (total 34 columns):\n",
      " #   Column            Non-Null Count    Dtype   \n",
      "---  ------            --------------    -----   \n",
      " 0   id                1107815 non-null  category\n",
      " 1   item_id           1107815 non-null  category\n",
      " 2   dept_id           1107815 non-null  category\n",
      " 3   cat_id            1107815 non-null  category\n",
      " 4   store_id          1107815 non-null  category\n",
      " 5   state_id          1107815 non-null  category\n",
      " 6   d                 1107815 non-null  int16   \n",
      " 7   sales             1107815 non-null  float64 \n",
      " 8   release           1107815 non-null  int16   \n",
      " 9   sell_price        1107815 non-null  float16 \n",
      " 10  price_max         1107815 non-null  float16 \n",
      " 11  price_min         1107815 non-null  float16 \n",
      " 12  price_std         1107815 non-null  float16 \n",
      " 13  price_mean        1107815 non-null  float16 \n",
      " 14  price_norm        1107815 non-null  float16 \n",
      " 15  price_nunique     1107815 non-null  float16 \n",
      " 16  item_nunique      1107815 non-null  int16   \n",
      " 17  price_momentum    1107407 non-null  float16 \n",
      " 18  price_momentum_m  1107815 non-null  float16 \n",
      " 19  price_momentum_y  1107815 non-null  float16 \n",
      " 20  event_name_1      90953 non-null    category\n",
      " 21  event_type_1      90953 non-null    category\n",
      " 22  event_name_2      0 non-null        category\n",
      " 23  event_type_2      0 non-null        category\n",
      " 24  snap_CA           1107815 non-null  category\n",
      " 25  snap_TX           1107815 non-null  category\n",
      " 26  snap_WI           1107815 non-null  category\n",
      " 27  tm_d              1107815 non-null  int8    \n",
      " 28  tm_w              1107815 non-null  int8    \n",
      " 29  tm_m              1107815 non-null  int8    \n",
      " 30  tm_y              1107815 non-null  int8    \n",
      " 31  tm_wm             1107815 non-null  int8    \n",
      " 32  tm_dw             1107815 non-null  int8    \n",
      " 33  tm_w_end          1107815 non-null  int8    \n",
      "dtypes: category(13), float16(10), float64(1), int16(3), int8(7)\n",
      "memory usage: 69.2 MB\n"
     ]
    }
   ],
   "source": [
    "grid_df.info"
   ]
  },
  {
   "cell_type": "code",
   "execution_count": 43,
   "metadata": {},
   "outputs": [
    {
     "data": {
      "text/plain": [
       "(1104770, 34)"
      ]
     },
     "execution_count": 43,
     "metadata": {},
     "output_type": "execute_result"
    }
   ],
   "source": [
    "grid_df[(grid_df['event_name_1'].isnull()) | (grid_df['event_name_1']!='Christmas')].shape"
   ]
  },
  {
   "cell_type": "code",
   "execution_count": 16,
   "metadata": {},
   "outputs": [],
   "source": [
    "grid_may_june = grid_df[(grid_df.tm_m==5)|(grid_df.tm_m==6)]"
   ]
  },
  {
   "cell_type": "code",
   "execution_count": 17,
   "metadata": {},
   "outputs": [
    {
     "data": {
      "text/plain": [
       "[NaN, Cinco De Mayo, Mother's day, MemorialDay, NBAFinalsStart, NBAFinalsEnd, Ramadan starts, Father's day]\n",
       "Categories (7, object): [Cinco De Mayo, Mother's day, MemorialDay, NBAFinalsStart, NBAFinalsEnd, Ramadan starts, Father's day]"
      ]
     },
     "execution_count": 17,
     "metadata": {},
     "output_type": "execute_result"
    }
   ],
   "source": [
    "grid_may_june.event_name_1.unique()"
   ]
  },
  {
   "cell_type": "code",
   "execution_count": null,
   "metadata": {},
   "outputs": [],
   "source": []
  },
  {
   "cell_type": "code",
   "execution_count": 55,
   "metadata": {},
   "outputs": [
    {
     "data": {
      "text/plain": [
       "store_id  item_id           \n",
       "CA_1      FOODS_1_001      0     2.199219\n",
       "          FOODS_1_002      0     9.500000\n",
       "          FOODS_1_003      0     3.199219\n",
       "          FOODS_1_004      0     2.000000\n",
       "          FOODS_1_005      0     3.500000\n",
       "                                  ...    \n",
       "          HOUSEHOLD_2_512  0     4.000000\n",
       "          HOUSEHOLD_2_513  0     2.800781\n",
       "          HOUSEHOLD_2_514  0    19.593750\n",
       "          HOUSEHOLD_2_515  0     2.000000\n",
       "          HOUSEHOLD_2_516  0     5.898438\n",
       "Name: sell_price, Length: 3047, dtype: float16"
      ]
     },
     "execution_count": 55,
     "metadata": {},
     "output_type": "execute_result"
    }
   ],
   "source": [
    "grid_df.groupby(['store_id', 'item_id'])['sell_price'].apply(lambda x: round(x, 1).mode())"
   ]
  },
  {
   "cell_type": "code",
   "execution_count": null,
   "metadata": {},
   "outputs": [],
   "source": []
  },
  {
   "cell_type": "code",
   "execution_count": null,
   "metadata": {},
   "outputs": [],
   "source": []
  }
 ],
 "metadata": {
  "kernelspec": {
   "display_name": "Python 3",
   "language": "python",
   "name": "python3"
  },
  "language_info": {
   "codemirror_mode": {
    "name": "ipython",
    "version": 3
   },
   "file_extension": ".py",
   "mimetype": "text/x-python",
   "name": "python",
   "nbconvert_exporter": "python",
   "pygments_lexer": "ipython3",
   "version": "3.7.6"
  }
 },
 "nbformat": 4,
 "nbformat_minor": 4
}
