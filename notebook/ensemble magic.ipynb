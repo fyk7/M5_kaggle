{
 "cells": [
  {
   "cell_type": "code",
   "execution_count": 3,
   "metadata": {},
   "outputs": [],
   "source": [
    "import numpy as np # linear algebra\n",
    "import pandas as pd # data processing, CSV file I/O (e.g. pd.read_csv)\n",
    "import os"
   ]
  },
  {
   "cell_type": "code",
   "execution_count": 46,
   "metadata": {},
   "outputs": [],
   "source": [
    "data1 = pd.read_csv('../data/output/submission_baseline.csv')#.sort_values(by = 'id').reset_index(drop=True)\n",
    "data2 = pd.read_csv('../data/output/categorical-emb.csv')#.sort_values(by = 'id').reset_index(drop=True)\n",
    "data3 = pd.read_csv('../data/output/submission_diff_span_each_store_28.csv')#.sort_values(by = 'id').reset_index(drop=True)\n",
    "data4 = pd.read_csv('../data/output/submission_catboost_28.csv')\n",
    "data5 = pd.read_csv('../data/output/submission_2y_28.csv')\n",
    "data6 = pd.read_csv('../data/output/submission_poisson_early_stop_10.csv')\n",
    "data7 = pd.read_csv('../data/output/submission_cat_emb_half_28.csv')\n",
    "data8 = pd.read_csv('../data/output/submission_small_data_all_store28.csv')\n",
    "data9 = pd.read_csv('../data/output/submission_simple_average_28.csv')\n",
    "data10 = pd.read_csv('../data/output/submission_lstm_0.7_28.csv')\n",
    "submission = data1.copy()\n",
    "\n",
    "for c in submission.columns :\n",
    "    if c != 'id' :\n",
    "        submission[c] = 0.85*data1[c] + 0.13*data2[c] + 0.02*data7[c] + 0.00*data10[c] \n",
    "\n",
    "        \n",
    "submission.to_csv('../data/output/submission27.csv',index=False)"
   ]
  },
  {
   "cell_type": "code",
   "execution_count": 24,
   "metadata": {},
   "outputs": [
    {
     "data": {
      "text/plain": [
       "(60980, 29)"
      ]
     },
     "execution_count": 24,
     "metadata": {},
     "output_type": "execute_result"
    }
   ],
   "source": [
    "data2.shape"
   ]
  },
  {
   "cell_type": "code",
   "execution_count": null,
   "metadata": {},
   "outputs": [],
   "source": [
    "#submission_baseline, categorical_emb = 0.87: 0.13の比率が最も良い"
   ]
  }
 ],
 "metadata": {
  "kernelspec": {
   "display_name": "Python 3",
   "language": "python",
   "name": "python3"
  },
  "language_info": {
   "codemirror_mode": {
    "name": "ipython",
    "version": 3
   },
   "file_extension": ".py",
   "mimetype": "text/x-python",
   "name": "python",
   "nbconvert_exporter": "python",
   "pygments_lexer": "ipython3",
   "version": "3.7.6"
  }
 },
 "nbformat": 4,
 "nbformat_minor": 4
}
